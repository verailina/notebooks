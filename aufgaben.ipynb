{
 "cells": [
  {
   "cell_type": "markdown",
   "metadata": {},
   "source": [
    "# Praxisteil\n",
    "\n",
    "Bearbeiten Sie die Aufgaben in den dafür vorgesehenen Zellen und laden Sie ihre Datei als `.ipynb` hoch. Sie können diese Datei über \"File > Download as... > Notebook\" herunterladen. Achten Sie darauf, dass Ihre Abgabe **keine Syntaxfehler** enthält. Dies können Sie einfach durch ausführen der Zellen (\"Run\") verifizieren.\n",
    "\n",
    "In den Python-Zellen finden Sie einige Beispiele, die Sie zur Verifikation ihrer Abgabe nutzen können, indem Sie sie einkommentieren. Die Beispiele sollten im Erfolgsfall `True` zurück geben. Dies garantiert nicht automatisch die volle Punktzahl, dient aber zur Kontrolle für Sie."
   ]
  },
  {
   "cell_type": "markdown",
   "metadata": {},
   "source": [
    "## Aufgabe 1: Fragmentierung von PDUs (2 Punkte)\n",
    "\n",
    "Ändern Sie die folgende Funktion `Fragment` so ab, dass sie zu gegebenen Binärdaten (`PDU_data`, ein [`bytes`-Objekt](https://docs.python.org/3.9/library/stdtypes.html#bytes)) und einer Größe `max_len` in Bytes eine *Liste* von [2-Tupeln](https://docs.python.org/3/library/stdtypes.html#tuple) zurück gibt. Das erste Element jedes Tupels beschreibt den Abstand (offset) vom Beginn der Daten, gemessen in Bytes. Das zweite Element enthält die entsprechenden `max_len` Bytes der usprünglichen Daten aus `PDU_data`. Das letzte Fragment kann weniger als `max_len` bytes enthalten - nutzen Sie also kein Padding."
   ]
  },
  {
   "cell_type": "code",
   "execution_count": null,
   "metadata": {},
   "outputs": [],
   "source": [
    "def Fragment(max_len, PDU_data):\n",
    "    to_return = []\n",
    "    # ...\n",
    "    return to_return\n",
    "\n",
    "# Beispiel zur Kontrolle\n",
    "# print(Fragment(5, b\"\\xc5\\xae\\x30\\x39\\x56\") == [(0, b\"\\xc5\\xae\\x30\\x39\\x56\")])\n",
    "# print(Fragment(5, b\"\\xc5\\xae\\x30\\x39\\x56\\x49\\x8f\\x86\\x00\\x00\\x00\\x00\\xa0\\x02\\x72\\x10\\x01\\x6c\\x00\\x00\\x02\") == [(0, b'\\xc5\\xae09V'), (5, b'I\\x8f\\x86\\x00\\x00'), (10, b'\\x00\\x00\\xa0\\x02r'), (15, b'\\x10\\x01l\\x00\\x00'), (20, b'\\x02')])\n",
    "# print(Fragment(3, b\"\\xc5\\xae\\x30\\x39\\x56\\x49\\x8f\\x86\\x00\\x00\\x00\\x00\\xa0\\x02\\x72\\x10\\x01\") == [(0, b'\\xc5\\xae0'), (3, b'9VI'), (6, b'\\x8f\\x86\\x00'), (9, b'\\x00\\x00\\x00'), (12, b'\\xa0\\x02r'), (15, b'\\x10\\x01')])\n",
    "# print(Fragment(23, b\"\") == [])"
   ]
  },
  {
   "cell_type": "markdown",
   "metadata": {},
   "source": [
    "## Aufgabe 2: NAT (2 Punkte)\n",
    "\n",
    "Die Funktion `NAT_TCP_DPort` soll Teil einer NAT-Implementierung werden. Diese Funktion übernimmt die Aufgabe, den Ziel-Port eines bestehenden TCP-Segments zu ändern. Die IP-Adresse wird hier nicht betrachtet.\n",
    "\n",
    "Schreiben Sie die Funktion so um, dass sie den Parameter `new_port` vom Typ `int` als neuen Port im ebenfalls übergebenen TCP-Segment `tcp_segment` ([`bytearray`-Objekt](https://docs.python.org/3.9/library/stdtypes.html#bytearray)) setzt. Für das Setzen der passenden Bytes können Sie die [`int.to_bytes`-Funktion](https://docs.python.org/3/library/stdtypes.html#int.to_bytes) (z.B. `(80).to_bytes(2, byteorder=\"big\")`) nutzen. Ein `bytearray`-Objekt lässt Zuweisung einzelner Elemente (Bytes) im Gegensatz zu einem `byte`-Objekt zu.\n",
    "\n",
    "- **Hinweis**: Ein `bytearray`-Objekt ist das schreibbare Gegenstück zu `bytes`-Objekten.\n",
    "- **Hinweis**: Ein Bereich von Bytes lässt sich über die Syntax `byteobj[from:to] = new_bytes` schreiben, wobei `from` und `to` ganzzahlige Indizes sind."
   ]
  },
  {
   "cell_type": "code",
   "execution_count": null,
   "metadata": {},
   "outputs": [],
   "source": [
    "def NAT_TCP_DPort(new_port, tcp_segment):\n",
    "    # ...\n",
    "    return tcp_segment\n",
    "\n",
    "# Beispiele zur Kontrolle\n",
    "# print(NAT_TCP_DPort(8888, bytearray(b'\\x9b\\x20\\x00\\x50\\x5a\\xbe\\x08\\x22\\xa2\\x82\\x22\\xed\\x80\\x10\\x00\\xed\\x27\\xaf\\x00\\x00\\x01\\x01\\x08\\x0a\\xa1\\xeb\\x97\\x49\\x1c\\xf4\\x7e\\xb9')) == bytearray(b'\\x9b \"\\xb8Z\\xbe\\x08\"\\xa2\\x82\"\\xed\\x80\\x10\\x00\\xed\\'\\xaf\\x00\\x00\\x01\\x01\\x08\\n\\xa1\\xeb\\x97I\\x1c\\xf4~\\xb9'))"
   ]
  },
  {
   "cell_type": "markdown",
   "metadata": {},
   "source": [
    "## Aufgabe 3: TCP-Fenstergröße (4 Punkte)\n",
    "\n",
    "Vervollständigen Sie die Funktion `Recv_Window_Size` so, dass sie für einen [TCP-Header](https://tools.ietf.org/html/rfc793#page-15) `tcp_header` als `byte`-Objekt die Fenstergröße (Window Size) zurück gibt. Bei den Verbindungen kann die TCP-Erweiterung [Window Scale Option](https://datatracker.ietf.org/doc/html/rfc1323#section-2) gesetzt sein. In diesem Fall wird `shift` > 0 übergeben - andernfalls ist `shift == 0`. `shift` entspricht `shift.cnt` aus dem RFC 1323 Sec. 2.\n",
    "\n",
    "- **Hinweis**: Für die Extraktion der nötigen Daten aus dem Header können Sie die [`int.from_bytes`-Funktion](https://docs.python.org/3/library/stdtypes.html#int.from_bytes) nutzen. Die Daten liegen in *Network-Byteorder* (also \"Big Endian\") vor."
   ]
  },
  {
   "cell_type": "code",
   "execution_count": null,
   "metadata": {},
   "outputs": [],
   "source": [
    "def Recv_Window_Size(tcp_header, shift):\n",
    "    # ...\n",
    "    return 0\n",
    "\n",
    "# Beispiel zur Kontrolle\n",
    "# print(Recv_Window_Size(b\"\\x00\\x50\\x9b\\x20\\xa2\\x82\\x21\\x98\\x5a\\xbe\\x08\\x22\\x80\\x18\\x00\\xe3\\xaf\\x73\\x00\\x00\\x01\\x01\\x08\\x0a\\x1c\\xf4\\x7e\\xb9\\xa1\\xeb\\x96\\xe4\", 0) == 227)\n",
    "# print(Recv_Window_Size(b\"\\x9b\\x20\\x00\\x50\\x5a\\xbe\\x07\\xd6\\xa2\\x82\\x21\\x98\\x80\\x18\\x00\\xe5\\x27\\xfb\\x00\\x00\\x01\\x01\\x08\\x0a\\xa1\\xeb\\x96\\xe4\\x1c\\xf4\\x7e\\x9f\", 7) == 29312)"
   ]
  },
  {
   "cell_type": "markdown",
   "metadata": {},
   "source": [
    "## Aufgabe 4: Schutz gegen IPv4-Spoofing (4 Punkte)\n",
    "\n",
    "Die Funktion `In_Subnet` ist Teil der IPv4-Implementierung eines Routers. Sie soll bestimmen, ob ein *ankommendes* IP-Paket zu einem Subnetz passt, z.B. um [IP-Spoofing](https://de.wikipedia.org/wiki/IP-Spoofing) zu verhindern.\n",
    "\n",
    "Die Funktion nimmt die 32 Bits eines Subnetzes als `byte`-Objekt und einen IPv4-Header, ebenfalls als `byte`-Objekt entgegen. Ergänzen Sie die Funktion so, dass sie (als `True` bzw. `False`) zurückgibt, ob die *Quell-Adresse* des zum IPv4-Header gehörenden Paketes im Subnetz liegt oder nicht. Implementieren Sie *nur* den Fall für Subnetze mit der Maske `255.255.192.0` (oder `/18` in CIDR-Notation).\n",
    "\n",
    "- **Hinweis**: Einzelne Bits lassen sich leicht mit Hilfe der `&`-Operation auswählen. Zum Beispiel ignoriert `0b11111100 & a_byte` die unteren zwei Bits von `a_byte`."
   ]
  },
  {
   "cell_type": "code",
   "execution_count": null,
   "metadata": {},
   "outputs": [],
   "source": [
    "def In_Subnet(subnet, ipv4_header):\n",
    "    return False\n",
    "\n",
    "# Beispiel zur Kontrolle\n",
    "# print(In_Subnet(b'\\xd1\\x33\\x80\\x00', b'\\x45\\x00\\x01\\x89\\x5f\\x30\\x40\\x00\\x33\\x06\\xbf\\xb6\\xd1\\x33\\xbc\\x94\\xc0\\xa8\\xd9\\x17'))\n",
    "# print(not In_Subnet(b'\\xd1\\x33\\xc0\\x00', b'\\x45\\x00\\x01\\x89\\x5f\\x30\\x40\\x00\\x33\\x06\\xbf\\xb6\\xd1\\x33\\xbc\\x94\\xc0\\xa8\\xd9\\x17'))\n",
    "# print(not In_Subnet(b'\\xd1\\x32\\x80\\x00', b'\\x45\\x00\\x01\\x89\\x5f\\x30\\x40\\x00\\x33\\x06\\xbf\\xb6\\xd1\\x33\\xbc\\x94\\xc0\\xa8\\xd9\\x17'))"
   ]
  },
  {
   "cell_type": "markdown",
   "metadata": {},
   "source": [
    "## Aufgabe 5: TCP Reno (3 Punkte)\n",
    "\n",
    "Die Funktion `Congestion_Window` soll ein Tupel ausgeben, das zur Größe eines bisherigen Congestion Window (in MSS gemessen), dem aktuellen Threshold und der Information, ob in der aktuellen Runde ein Timeout aufgetreten  ist (`timeout`) oder bereits `duplicate_acks_count` ACK-Duplikate eingetroffen sind, die neue Größe des Congestion Windows und den neuen Threshold als 2-Tupel zurück gibt. Als zugrundeliegender Algorithmus soll TCP Reno dienen.\n",
    "\n",
    "- **Hinweis**: Sie können davon ausgehen, dass ein Timeout oder ein ACK-Duplikat (oder nichts von beidem) in einer Runde vorkommt, jedoch nicht beides gleichzeitig."
   ]
  },
  {
   "cell_type": "code",
   "execution_count": null,
   "metadata": {},
   "outputs": [],
   "source": [
    "def Congestion_Window(congwin, threshold, timeout, duplicate_acks_count):\n",
    "    new_threshold = 0\n",
    "    new_congwin = 0\n",
    "    # ...\n",
    "    return (new_congwin, new_threshold)\n",
    "\n",
    "# Beispiele zur Kontrolle\n",
    "# print(Congestion_Window(32, 16, False, 0) == (33, 16))\n",
    "# print(Congestion_Window(32, 8, True, 1) == (1, 16))\n",
    "# print(Congestion_Window(32, 10, False, 3) == (19, 16))"
   ]
  },
  {
   "cell_type": "markdown",
   "metadata": {},
   "source": [
    "## Aufgabe 6: Konstruktion eines HTTP-Request-Headers (3 Punkte)\n",
    "\n",
    "Konstruieren Sie einen HTTP 1.1 Request als Zeichenkette aus der Methode, dem Pfad, dem Host und dem übergebenen Inhalt. Setzen Sie dabei das `Host`-Feld und das `Content-Length`-Feld. Gehen Sie davon aus, dass der Pfad bereits korrekt kodiert wurde. Der Inhalt (`payload`) wird als `byte`-Objekt übergeben. [Nutzen Sie die ASCII-Kodierung](https://docs.python.org/3/library/stdtypes.html#bytes.decode) für den Inhalt."
   ]
  },
  {
   "cell_type": "code",
   "execution_count": null,
   "metadata": {},
   "outputs": [],
   "source": [
    "def HTTP_Request(method, path, host, payload):\n",
    "    return \"\"\n",
    "\n",
    "# Beispiel zur Kontrolle\n",
    "# print(HTTP_Request(\"POST\", \"/sessions\", \"example.com\", bytes([123, 112, 97, 115, 115, 119, 111, 114, 100, 58, 32, 39, 115, 117, 112, 101, 114, 32, 115, 101, 99, 114, 101, 116, 39, 125])).startswith('POST /sessions HTTP/1.1\\r\\n'))\n",
    "# print(HTTP_Request(\"POST\", \"/sessions\", \"example.com\", bytes([123, 112])).count('\\r\\n\\r\\n') == 1)"
   ]
  },
  {
   "cell_type": "markdown",
   "metadata": {},
   "source": [
    "## Aufgabe 7: DNS-Anfrage (8 Punke)\n",
    "\n",
    "Erstellen Sie in der folgenden Funktion `Generate_Request` ein `bytearray`-Objekt, das eine gültige DNS-Anfrage nach RFC 1035 erstellt und geben Sie es zurück. Den Aufbau der PDU zeigt [Sec. 4.1](https://datatracker.ietf.org/doc/html/rfc1035#section-4.1), das Format einer PCI ist in [Sec. 4.1.1](https://datatracker.ietf.org/doc/html/rfc1035#section-4.1.1) beschrieben. Das Format der UD ist in [Sec. 4.1.2](https://datatracker.ietf.org/doc/html/rfc1035#section-4.1.2) beschrieben. Dabei sollen folgende Rahmenbedigungen gelten, die die Implementierung deutlich vereinfachen:\n",
    "\n",
    "- Es handelt sich um eine Anfrage nach einem Ressource Record vom Typ `A` (entspricht `QTYPE`). Die `QCLASS` ist `IN`. Die passenden (Binär-)Werte finden Sie ebenfalls im RFC.\n",
    "- Sie können der Einfachheit halber eine feste ID vergeben.\n",
    "- Es handelt sich um ein `QUERY` (`OPCODE` ist 0).\n",
    "- Gehen Sie bei `QDCOUNT` von 1 aus. Der Request hat nur ein \"Query\", d.h. `ANCOUNT`, `NSCOUNT` und `ARCOUNT` sind 0. Die Domain dazu wird der Funktion bereits aufgeteilt (als \"labels\", siehe Sec. 4.1.2) übergeben.\n",
    "- **Hinweis**: Sie können zum erstellen des Feldes QNAME die Hilfsfunktion `Helper_QNAME` nutzen. Beenden Sie `QNAME` mit einem Byte mit dem Wert `0x0`: \"The domain name terminates with the zero length octet for the null label of the root\". Das übernimmt die Hilfsfunktion nicht!\n",
    "- **Hinweis**: Mit `byteobj += bytes([0b01010101, ...])` lassen sich beliebig Bytes an das `byteobj` vom Typ `bytearray` anhängen. Alternativ können Sie auch wie in Aufgabe 2 mit int.to_bytes() arbeiten."
   ]
  },
  {
   "cell_type": "code",
   "execution_count": null,
   "metadata": {},
   "outputs": [],
   "source": [
    "def Helper_QNAME(labels):\n",
    "    qname = bytearray()\n",
    "    for i in labels:\n",
    "        qname += bytes([len(i)])\n",
    "        qname += bytes(i, \"ASCII\")\n",
    "    return qname\n",
    "\n",
    "def Generate_Request(labels):\n",
    "    request = bytearray()\n",
    "    # request += bytes([x, y]) # zwei Bytes ID setzen\n",
    "    # ...\n",
    "    return request\n",
    "\n",
    "# Beispiel zur Kontrolle\n",
    "# print(Generate_Request([\"www\", \"lmu\", \"de\"]).endswith(b'\\x03www\\x03lmu\\x02de\\x00\\x00\\x01\\x00\\x01'))\n",
    "# print(Generate_Request([\"www\", \"lmu\", \"de\"])[4:6] == bytes([0x00, 0x01]))\n",
    "# print(len(Generate_Request([\"www\", \"lmu\", \"de\"])) == 28)"
   ]
  },
  {
   "cell_type": "code",
   "execution_count": null,
   "metadata": {},
   "outputs": [],
   "source": []
  }
 ],
 "metadata": {
  "kernelspec": {
   "display_name": "Python 3",
   "language": "python",
   "name": "python3"
  },
  "language_info": {
   "codemirror_mode": {
    "name": "ipython",
    "version": 3
   },
   "file_extension": ".py",
   "mimetype": "text/x-python",
   "name": "python",
   "nbconvert_exporter": "python",
   "pygments_lexer": "ipython3",
   "version": "3.9.2"
  }
 },
 "nbformat": 4,
 "nbformat_minor": 4
}
